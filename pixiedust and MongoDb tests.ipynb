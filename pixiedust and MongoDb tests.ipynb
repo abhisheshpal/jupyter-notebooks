{
 "cells": [
  {
   "cell_type": "markdown",
   "metadata": {},
   "source": [
    "https://github.com/ibm-watson-data-lab/pixiedust/wiki/Tutorial:-Using-Notebooks-with-PixieDust-for-Fast,-Flexible,-and-Easier-Data-Analysis-and-Experimentation"
   ]
  },
  {
   "cell_type": "code",
   "execution_count": null,
   "metadata": {},
   "outputs": [],
   "source": [
    "#!pip install --user -U pixiedust requests matplotlib\n",
    "import pixiedust\n",
    "\n",
    "inspections = pixiedust.sampleData(\"https://opendata.lasvegasnevada.gov/resource/86jg-3buh.csv\")"
   ]
  },
  {
   "cell_type": "code",
   "execution_count": null,
   "metadata": {
    "pixiedust": {
     "displayParams": {
      "handlerId": "tableView"
     }
    }
   },
   "outputs": [],
   "source": [
    "display(inspections)"
   ]
  },
  {
   "cell_type": "markdown",
   "metadata": {},
   "source": [
    "# Using pymongo and pixiedust\n",
    "\n",
    "our server at 10.210.9.130 uses ssl with a self-signed certificate\n"
   ]
  },
  {
   "cell_type": "code",
   "execution_count": null,
   "metadata": {},
   "outputs": [],
   "source": [
    "# install pymongo\n",
    "#!pip install --user -U pymongo"
   ]
  },
  {
   "cell_type": "code",
   "execution_count": 35,
   "metadata": {
    "pixiedust": {
     "displayParams": {}
    }
   },
   "outputs": [],
   "source": [
    "#!conda install -y pymongo\n",
    "import pymongo as pm\n",
    "from pymongo.errors import ConnectionFailure\n",
    "from time import sleep\n",
    "from ssl import CERT_NONE\n",
    "\n",
    "\n",
    "client = pm.MongoClient('10.210.9.130', ssl=True, ssl_cert_reqs=CERT_NONE,\n",
    "                        username='strands', authSource='admin', authMechanism='SCRAM-SHA-1',\n",
    "                        serverSelectionTimeoutMS=1500, password='Grum#Beere')\n",
    "#client = pm.MongoClient('lcas.lincoln.ac.uk', port=80)\n",
    "#try:\n",
    "   # The ismaster command is cheap and does not require auth.\n",
    "\n",
    "\n",
    "collection = client.aafy4_message_store.nav_stats\n",
    "\n",
    "c= collection.find({'final_node': 'ChargingPoint'}).limit(1000)\n"
   ]
  },
  {
   "cell_type": "code",
   "execution_count": 36,
   "metadata": {
    "pixiedust": {
     "displayParams": {
      "aggregation": "COUNT",
      "charttype": "stacked",
      "clusterby": "status",
      "handlerId": "barChart",
      "keyFields": "edge_id",
      "legend": "true",
      "mpld3": "false",
      "orientation": "horizontal",
      "rendererId": "matplotlib",
      "sortby": "Values DESC",
      "timeseries": "false",
      "title": "test",
      "valueFields": "time_to_waypoint"
     }
    },
    "scrolled": false
   },
   "outputs": [
    {
     "data": {
      "text/html": [
       "<style type=\"text/css\">.pd_warning{display:none;}</style><div class=\"pd_warning\"><em>Hey, there's something awesome here! To see it, open this notebook outside GitHub, in a viewer like Jupyter</em></div>\n",
       "        <div class=\"pd_save is-viewer-good\" style=\"padding-right:10px;text-align: center;line-height:initial !important;font-size: xx-large;font-weight: 500;color: coral;\">\n",
       "            test\n",
       "        </div>\n",
       "    <div id=\"chartFigure689ac68f\" class=\"pd_save is-viewer-good\" style=\"overflow-x:auto\">\n",
       "            \n",
       "                    \n",
       "                            <center><img style=\"max-width:initial !important\" src=\"data:image/png;base64,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\" class=\"pd_save\"></center>\n",
       "                        \n",
       "                    \n",
       "                \n",
       "        </div>"
      ],
      "text/plain": [
       "<IPython.core.display.HTML object>"
      ]
     },
     "metadata": {},
     "output_type": "display_data"
    }
   ],
   "source": [
    "import pixiedust\n",
    "items=[i for i in c]\n",
    "display(items)\n",
    "#for i in c:\n",
    "#    display(i)"
   ]
  },
  {
   "cell_type": "markdown",
   "metadata": {},
   "source": [
    "# Use rosbag with pixiedust\n",
    "\n",
    "* needs to install ROS and somehow make it work with jupyter (loadenv)\n",
    "* then needs to use rosbag_pandas\n",
    "* then we are happy and can go"
   ]
  },
  {
   "cell_type": "code",
   "execution_count": 1,
   "metadata": {},
   "outputs": [
    {
     "name": "stdout",
     "output_type": "stream",
     "text": [
      "ROS_ROOT=/opt/ros/kinetic/share/ros\n",
      "ROS_PACKAGE_PATH=/opt/ros/kinetic/share\n",
      "ROS_VERSION=1\n",
      "LD_LIBRARY_PATH=/opt/ros/kinetic/lib\n",
      "PATH=/opt/ros/kinetic/bin:/opt/conda/bin:/usr/local/sbin:/usr/local/bin:/usr/sbin:/usr/bin:/sbin:/bin\n",
      "ROS_DISTRO=kinetic\n",
      "PYTHONPATH=/opt/ros/kinetic/lib/python2.7/dist-packages\n",
      "PKG_CONFIG_PATH=/opt/ros/kinetic/lib/pkgconfig\n",
      "CMAKE_PREFIX_PATH=/opt/ros/kinetic\n",
      "ROS_ETC_DIR=/opt/ros/kinetic/etc/ros\n"
     ]
    }
   ],
   "source": [
    "# You can use python inline. E.g. you can define functions to be used later:\n",
    "\n",
    "# import environment and expose in jupyter env\n",
    "# this only works when shellvars is installed as it is in L-CAS Juptyer images\n",
    "# https://github.com/LCAS/jupyterhub-deploy-docker/blob/master/singleuser/Dockerfile#L100\n",
    "\n",
    "import shellvars\n",
    "from os import environ\n",
    "\n",
    "def loadenv(filename='/opt/ros/kinetic/setup.bash'):\n",
    "    vs = shellvars.get_vars(filename)\n",
    "    for v in vs:\n",
    "        print('%s=%s' % (v.decode(\"utf-8\"), str(vs[v].decode(\"utf-8\"))))\n",
    "        environ[v.decode(\"utf-8\")] = str(vs[v].decode(\"utf-8\"))\n",
    "\n",
    "# you can call these functions easily\n",
    "# (This example is a good way to load environment variables from a config file)\n",
    "\n",
    "loadenv('/opt/ros/kinetic/setup.bash')"
   ]
  },
  {
   "cell_type": "code",
   "execution_count": 8,
   "metadata": {
    "pixiedust": {
     "displayParams": {}
    }
   },
   "outputs": [
    {
     "name": "stdout",
     "output_type": "stream",
     "text": [
      "/amcl_pose TopicTuple(msg_type='geometry_msgs/PoseWithCovarianceStamped', message_count=13, connections=1, frequency=1.9929491585341719)\n",
      "/odom TopicTuple(msg_type='nav_msgs/Odometry', message_count=419, connections=1, frequency=9.902923440886617)\n",
      "/scan TopicTuple(msg_type='sensor_msgs/LaserScan', message_count=538, connections=1, frequency=10.022303624637692)\n",
      "/sgt/status TopicTuple(msg_type='std_msgs/String', message_count=110, connections=1, frequency=13.112158034756892)\n",
      "/track/status TopicTuple(msg_type='std_msgs/String', message_count=131, connections=1, frequency=18.056287278214132)\n"
     ]
    }
   ],
   "source": [
    "\n",
    "# install marc-hanheide's own python3 version of rosbag_panda: https://github.com/marc-hanheide/RosbagPandas\n",
    "#   - clone it\n",
    "#   - run pip install --user -U . in it \n",
    "# tutorial at https://nimbus.unl.edu/2014/11/using-rosbag_pandas-to-analyze-rosbag-files/\n",
    "#sudo apt-get install ros-kinetic-rosbag python-roslz4\n",
    "def expand_sys_path():\n",
    "    import sys\n",
    "    from os import environ\n",
    "\n",
    "    extra_paths = environ['PYTHONPATH'].split(':')\n",
    "    sys.path.extend(extra_paths)\n",
    "\n",
    "    new_path = []\n",
    "    for p in sys.path:\n",
    "        if not p in new_path:\n",
    "            new_path.append(p)\n",
    "\n",
    "    sys.path = new_path\n",
    "\n",
    "\n",
    "expand_sys_path()\n",
    "\n",
    "import rosbag\n",
    "import pixiedust\n",
    "from pprint import pprint\n",
    "bag = rosbag.Bag('bag.bag')\n",
    "topics = bag.get_type_and_topic_info()[1]\n",
    "\n",
    "for t in topics:\n",
    "    print(t, topics[t])\n",
    "\n",
    "import rosbag_pandas\n",
    "\n",
    "df = rosbag_pandas.bag_to_dataframe('bag.bag', include=['/amcl_pose'])\n",
    "\n"
   ]
  },
  {
   "cell_type": "code",
   "execution_count": 12,
   "metadata": {
    "pixiedust": {
     "displayParams": {
      "handlerId": "scatterPlot",
      "keyFields": "amcl_pose__pose_pose_position_x",
      "kind": "scatter",
      "mpld3": "false",
      "rendererId": "bokeh",
      "valueFields": "amcl_pose__pose_pose_position_y"
     }
    }
   },
   "outputs": [
    {
     "data": {
      "text/html": [
       "<style type=\"text/css\">.pd_warning{display:none;}</style><div class=\"pd_warning\"><em>Hey, there's something awesome here! To see it, open this notebook outside GitHub, in a viewer like Jupyter</em></div>\n",
       "        <div class=\"pd_save is-viewer-good\" style=\"padding-right:10px;text-align: center;line-height:initial !important;font-size: xx-large;font-weight: 500;color: coral;\">\n",
       "            \n",
       "        </div>\n",
       "    \n",
       "        <div id=\"chartFigure5d7146aa\" class=\"pd_save\" style=\"overflow-x:auto\">\n",
       "            \n",
       "                    <script class=\"pd_save\">\n",
       "                    function setChartScript() {\n",
       "                        if (!window.Bokeh) {\n",
       "                            setTimeout(setChartScript, 250)\n",
       "                        } else {\n",
       "                            var d = document.getElementById(\"pd-bkchartdiv-5d7146aa\")\n",
       "                            if (d){\n",
       "                                var el = document.createElement('div')\n",
       "                                el.innerHTML = `\n",
       "<script type=\"text/javascript\">\n",
       "    (function() {\n",
       "  var fn = function() {\n",
       "    Bokeh.safely(function() {\n",
       "      (function(root) {\n",
       "        function embed_document(root) {\n",
       "          var docs_json = {\"6fc94c54-f377-4a47-a511-dbaf94655a2b\":{\"roots\":{\"references\":[{\"attributes\":{\"data_source\":{\"id\":\"b3105203-c429-4ffe-8917-43f863216a01\",\"type\":\"ColumnDataSource\"},\"glyph\":{\"id\":\"feab1f1d-2e5e-4781-bb1e-d84c09c24f8f\",\"type\":\"Circle\"},\"hover_glyph\":null,\"muted_glyph\":null,\"nonselection_glyph\":{\"id\":\"24a76b11-3ce4-4f98-a965-d14ea9c41b22\",\"type\":\"Circle\"},\"selection_glyph\":null,\"view\":{\"id\":\"2f3d3d3b-f07f-4b7f-93f5-79a3739d53d9\",\"type\":\"CDSView\"}},\"id\":\"1fe61dfe-127b-414a-8053-2d0f9cb79ff9\",\"type\":\"GlyphRenderer\"},{\"attributes\":{},\"id\":\"e2f969fa-7d5c-45e9-b474-f1ac9640e5e0\",\"type\":\"ResetTool\"},{\"attributes\":{},\"id\":\"e82f1dea-08c7-42e4-a8a5-4ca32a354448\",\"type\":\"SaveTool\"},{\"attributes\":{\"callback\":null},\"id\":\"6a6604be-8060-4c0c-a38d-739304b9acde\",\"type\":\"DataRange1d\"},{\"attributes\":{},\"id\":\"323da4d0-3ac1-4e98-932e-990b1788f6f6\",\"type\":\"BasicTickFormatter\"},{\"attributes\":{},\"id\":\"bda9ce60-b38f-4ad8-a8a9-331f5b1369aa\",\"type\":\"PanTool\"},{\"attributes\":{\"callback\":null,\"column_names\":[\"x\",\"y\"],\"data\":{\"x\":[-3.4529767387434154,-3.256229557532293,-3.038648089433415,-2.845499963983558,-2.6590193551370813,-2.4451910897001095,-2.2606362356123046,-2.0601149486415546,-1.85289502910819,-1.6475096281657036,-1.446467164755106,-1.2279298671302694,-1.0247440582206346],\"y\":[-0.007834445066672135,0.032001366396962466,0.07030012104524978,0.11208861743530348,0.13180363996185673,0.16004076313622642,0.17076639394232626,0.19261781739588912,0.17006371972839499,0.10100665299114181,0.04364558296546141,-0.017522134432816895,-0.08537484805422806]}},\"id\":\"b3105203-c429-4ffe-8917-43f863216a01\",\"type\":\"ColumnDataSource\"},{\"attributes\":{\"plot\":null,\"text\":\"\"},\"id\":\"57a0bbac-048b-427f-b310-6220f9670863\",\"type\":\"Title\"},{\"attributes\":{\"dimension\":1,\"grid_line_alpha\":{\"value\":0.3},\"plot\":{\"id\":\"b23c6d82-35de-46b2-8ed7-48a7fb8bbda5\",\"subtype\":\"Figure\",\"type\":\"Plot\"},\"ticker\":{\"id\":\"2f2a4e08-f5d4-427b-91b3-143b8b3791d2\",\"type\":\"BasicTicker\"}},\"id\":\"33f6b8b6-f5ac-4dcb-a5bb-3e6f74674f8e\",\"type\":\"Grid\"},{\"attributes\":{\"overlay\":{\"id\":\"feedbf26-5fe4-48e2-bc2e-7d5bbc2fdb36\",\"type\":\"BoxAnnotation\"}},\"id\":\"73b78969-22a9-47b0-8d44-688be0bcbcfc\",\"type\":\"BoxZoomTool\"},{\"attributes\":{\"bottom_units\":\"screen\",\"fill_alpha\":{\"value\":0.5},\"fill_color\":{\"value\":\"lightgrey\"},\"left_units\":\"screen\",\"level\":\"overlay\",\"line_alpha\":{\"value\":1.0},\"line_color\":{\"value\":\"black\"},\"line_dash\":[4,4],\"line_width\":{\"value\":2},\"plot\":null,\"render_mode\":\"css\",\"right_units\":\"screen\",\"top_units\":\"screen\"},\"id\":\"feedbf26-5fe4-48e2-bc2e-7d5bbc2fdb36\",\"type\":\"BoxAnnotation\"},{\"attributes\":{\"below\":[{\"id\":\"ff469478-bb9e-459c-8cea-79fb13af76aa\",\"type\":\"LinearAxis\"}],\"left\":[{\"id\":\"54f96f8d-8bbc-4ad7-b7a8-81d93450344e\",\"type\":\"LinearAxis\"}],\"plot_height\":490,\"plot_width\":798,\"renderers\":[{\"id\":\"ff469478-bb9e-459c-8cea-79fb13af76aa\",\"type\":\"LinearAxis\"},{\"id\":\"2c561315-f407-48a0-9720-a1deeca03ae5\",\"type\":\"Grid\"},{\"id\":\"54f96f8d-8bbc-4ad7-b7a8-81d93450344e\",\"type\":\"LinearAxis\"},{\"id\":\"33f6b8b6-f5ac-4dcb-a5bb-3e6f74674f8e\",\"type\":\"Grid\"},{\"id\":\"feedbf26-5fe4-48e2-bc2e-7d5bbc2fdb36\",\"type\":\"BoxAnnotation\"},{\"id\":\"1fe61dfe-127b-414a-8053-2d0f9cb79ff9\",\"type\":\"GlyphRenderer\"}],\"title\":{\"id\":\"57a0bbac-048b-427f-b310-6220f9670863\",\"type\":\"Title\"},\"toolbar\":{\"id\":\"9c25115c-0137-44bc-93d4-f8bc6b3edb20\",\"type\":\"Toolbar\"},\"x_range\":{\"id\":\"7c02b2b1-bf93-468a-a08d-cd617ff96cf6\",\"type\":\"DataRange1d\"},\"x_scale\":{\"id\":\"dab8ed5a-537c-4349-a104-f44b9270786e\",\"type\":\"LinearScale\"},\"y_range\":{\"id\":\"6a6604be-8060-4c0c-a38d-739304b9acde\",\"type\":\"DataRange1d\"},\"y_scale\":{\"id\":\"be910b20-bf0b-409f-b1e8-6722f26815df\",\"type\":\"LinearScale\"}},\"id\":\"b23c6d82-35de-46b2-8ed7-48a7fb8bbda5\",\"subtype\":\"Figure\",\"type\":\"Plot\"},{\"attributes\":{},\"id\":\"a4fedaa1-443d-4964-841a-8f985ee5fed5\",\"type\":\"WheelZoomTool\"},{\"attributes\":{\"fill_alpha\":{\"value\":0.1},\"fill_color\":{\"value\":\"#1f77b4\"},\"line_alpha\":{\"value\":0.1},\"line_color\":{\"value\":\"#1f77b4\"},\"size\":{\"units\":\"screen\",\"value\":8},\"x\":{\"field\":\"x\"},\"y\":{\"field\":\"y\"}},\"id\":\"24a76b11-3ce4-4f98-a965-d14ea9c41b22\",\"type\":\"Circle\"},{\"attributes\":{\"fill_alpha\":{\"value\":0.5},\"fill_color\":{\"value\":\"#1f77b4\"},\"line_color\":{\"value\":\"#1f77b4\"},\"size\":{\"units\":\"screen\",\"value\":8},\"x\":{\"field\":\"x\"},\"y\":{\"field\":\"y\"}},\"id\":\"feab1f1d-2e5e-4781-bb1e-d84c09c24f8f\",\"type\":\"Circle\"},{\"attributes\":{\"grid_line_alpha\":{\"value\":0.3},\"plot\":{\"id\":\"b23c6d82-35de-46b2-8ed7-48a7fb8bbda5\",\"subtype\":\"Figure\",\"type\":\"Plot\"},\"ticker\":{\"id\":\"46b034d0-e0d3-48ef-96de-955826d0a470\",\"type\":\"BasicTicker\"}},\"id\":\"2c561315-f407-48a0-9720-a1deeca03ae5\",\"type\":\"Grid\"},{\"attributes\":{},\"id\":\"46b034d0-e0d3-48ef-96de-955826d0a470\",\"type\":\"BasicTicker\"},{\"attributes\":{},\"id\":\"be910b20-bf0b-409f-b1e8-6722f26815df\",\"type\":\"LinearScale\"},{\"attributes\":{},\"id\":\"dab8ed5a-537c-4349-a104-f44b9270786e\",\"type\":\"LinearScale\"},{\"attributes\":{\"active_drag\":\"auto\",\"active_inspect\":\"auto\",\"active_scroll\":\"auto\",\"active_tap\":\"auto\",\"tools\":[{\"id\":\"bda9ce60-b38f-4ad8-a8a9-331f5b1369aa\",\"type\":\"PanTool\"},{\"id\":\"a4fedaa1-443d-4964-841a-8f985ee5fed5\",\"type\":\"WheelZoomTool\"},{\"id\":\"73b78969-22a9-47b0-8d44-688be0bcbcfc\",\"type\":\"BoxZoomTool\"},{\"id\":\"e82f1dea-08c7-42e4-a8a5-4ca32a354448\",\"type\":\"SaveTool\"},{\"id\":\"e2f969fa-7d5c-45e9-b474-f1ac9640e5e0\",\"type\":\"ResetTool\"},{\"id\":\"05470b53-36dc-4fe3-9699-cb96fa2ea0c8\",\"type\":\"HelpTool\"}]},\"id\":\"9c25115c-0137-44bc-93d4-f8bc6b3edb20\",\"type\":\"Toolbar\"},{\"attributes\":{},\"id\":\"f7bd97c5-b443-45b8-95f5-6fa397ffe414\",\"type\":\"BasicTickFormatter\"},{\"attributes\":{\"axis_label\":\"amcl_pose__pose_pose_position_y\",\"formatter\":{\"id\":\"323da4d0-3ac1-4e98-932e-990b1788f6f6\",\"type\":\"BasicTickFormatter\"},\"plot\":{\"id\":\"b23c6d82-35de-46b2-8ed7-48a7fb8bbda5\",\"subtype\":\"Figure\",\"type\":\"Plot\"},\"ticker\":{\"id\":\"2f2a4e08-f5d4-427b-91b3-143b8b3791d2\",\"type\":\"BasicTicker\"}},\"id\":\"54f96f8d-8bbc-4ad7-b7a8-81d93450344e\",\"type\":\"LinearAxis\"},{\"attributes\":{},\"id\":\"2f2a4e08-f5d4-427b-91b3-143b8b3791d2\",\"type\":\"BasicTicker\"},{\"attributes\":{\"source\":{\"id\":\"b3105203-c429-4ffe-8917-43f863216a01\",\"type\":\"ColumnDataSource\"}},\"id\":\"2f3d3d3b-f07f-4b7f-93f5-79a3739d53d9\",\"type\":\"CDSView\"},{\"attributes\":{\"callback\":null},\"id\":\"7c02b2b1-bf93-468a-a08d-cd617ff96cf6\",\"type\":\"DataRange1d\"},{\"attributes\":{},\"id\":\"05470b53-36dc-4fe3-9699-cb96fa2ea0c8\",\"type\":\"HelpTool\"},{\"attributes\":{\"axis_label\":\"amcl_pose__pose_pose_position_x\",\"formatter\":{\"id\":\"f7bd97c5-b443-45b8-95f5-6fa397ffe414\",\"type\":\"BasicTickFormatter\"},\"plot\":{\"id\":\"b23c6d82-35de-46b2-8ed7-48a7fb8bbda5\",\"subtype\":\"Figure\",\"type\":\"Plot\"},\"ticker\":{\"id\":\"46b034d0-e0d3-48ef-96de-955826d0a470\",\"type\":\"BasicTicker\"}},\"id\":\"ff469478-bb9e-459c-8cea-79fb13af76aa\",\"type\":\"LinearAxis\"}],\"root_ids\":[\"b23c6d82-35de-46b2-8ed7-48a7fb8bbda5\"]},\"title\":\"Bokeh Application\",\"version\":\"0.12.9\"}};\n",
       "          var render_items = [{\"docid\":\"6fc94c54-f377-4a47-a511-dbaf94655a2b\",\"elementid\":\"0bc65f0c-41ff-445d-bb86-56ed9d31f9a5\",\"modelid\":\"b23c6d82-35de-46b2-8ed7-48a7fb8bbda5\"}];\n",
       "      \n",
       "          root.Bokeh.embed.embed_items(docs_json, render_items);\n",
       "        }\n",
       "      \n",
       "        if (root.Bokeh !== undefined) {\n",
       "          embed_document(root);\n",
       "        } else {\n",
       "          var attempts = 0;\n",
       "          var timer = setInterval(function(root) {\n",
       "            if (root.Bokeh !== undefined) {\n",
       "              embed_document(root);\n",
       "              clearInterval(timer);\n",
       "            }\n",
       "            attempts++;\n",
       "            if (attempts > 100) {\n",
       "              console.log(\"Bokeh: ERROR: Unable to embed document because BokehJS library is missing\")\n",
       "              clearInterval(timer);\n",
       "            }\n",
       "          }, 10, root)\n",
       "        }\n",
       "      })(window);\n",
       "    });\n",
       "  };\n",
       "  if (document.readyState != \"loading\") fn();\n",
       "  else document.addEventListener(\"DOMContentLoaded\", fn);\n",
       "})();\n",
       "\n",
       "<\\/script>`\n",
       "                                var chartscript = el.childNodes[1]\n",
       "                                var s = document.createElement(\"script\")\n",
       "                                s.innerHTML = chartscript.innerHTML\n",
       "                                d.parentNode.insertBefore(s, d)\n",
       "                            }\n",
       "                        }\n",
       "                    }\n",
       "                    if (!window.Bokeh && !window.autoload){\n",
       "                        window.autoload=true;\n",
       "                        \n",
       "(function(root) {\n",
       "  function now() {\n",
       "    return new Date();\n",
       "  }\n",
       "\n",
       "  var force = 1;\n",
       "\n",
       "  if (typeof (root._bokeh_onload_callbacks) === \"undefined\" || force === true) {\n",
       "    root._bokeh_onload_callbacks = [];\n",
       "    root._bokeh_is_loading = undefined;\n",
       "  }\n",
       "\n",
       "  \n",
       "\n",
       "  \n",
       "  if (typeof (root._bokeh_timeout) === \"undefined\" || force === true) {\n",
       "    root._bokeh_timeout = Date.now() + 5000;\n",
       "    root._bokeh_failed_load = false;\n",
       "  }\n",
       "\n",
       "  var NB_LOAD_WARNING = {'data': {'text/html':\n",
       "     \"<div style='background-color: #fdd'>\\n\"+\n",
       "     \"<p>\\n\"+\n",
       "     \"BokehJS does not appear to have successfully loaded. If loading BokehJS from CDN, this \\n\"+\n",
       "     \"may be due to a slow or bad network connection. Possible fixes:\\n\"+\n",
       "     \"</p>\\n\"+\n",
       "     \"<ul>\\n\"+\n",
       "     \"<li>re-rerun `output_notebook()` to attempt to load from CDN again, or</li>\\n\"+\n",
       "     \"<li>use INLINE resources instead, as so:</li>\\n\"+\n",
       "     \"</ul>\\n\"+\n",
       "     \"<code>\\n\"+\n",
       "     \"from bokeh.resources import INLINE\\n\"+\n",
       "     \"output_notebook(resources=INLINE)\\n\"+\n",
       "     \"</code>\\n\"+\n",
       "     \"</div>\"}};\n",
       "\n",
       "  function display_loaded() {\n",
       "    var el = document.getElementById(\"\");\n",
       "    if (el != null) {\n",
       "      el.textContent = \"BokehJS is loading...\";\n",
       "    }\n",
       "    if (root.Bokeh !== undefined) {\n",
       "      if (el != null) {\n",
       "        el.textContent = \"BokehJS \" + root.Bokeh.version + \" successfully loaded.\";\n",
       "      }\n",
       "    } else if (Date.now() < root._bokeh_timeout) {\n",
       "      setTimeout(display_loaded, 100)\n",
       "    }\n",
       "  }\n",
       "\n",
       "\n",
       "  function run_callbacks() {\n",
       "    try {\n",
       "      root._bokeh_onload_callbacks.forEach(function(callback) { callback() });\n",
       "    }\n",
       "    finally {\n",
       "      delete root._bokeh_onload_callbacks\n",
       "    }\n",
       "    console.info(\"Bokeh: all callbacks have finished\");\n",
       "  }\n",
       "\n",
       "  function load_libs(js_urls, callback) {\n",
       "    root._bokeh_onload_callbacks.push(callback);\n",
       "    if (root._bokeh_is_loading > 0) {\n",
       "      console.log(\"Bokeh: BokehJS is being loaded, scheduling callback at\", now());\n",
       "      return null;\n",
       "    }\n",
       "    if (js_urls == null || js_urls.length === 0) {\n",
       "      run_callbacks();\n",
       "      return null;\n",
       "    }\n",
       "    console.log(\"Bokeh: BokehJS not loaded, scheduling load and callback at\", now());\n",
       "    root._bokeh_is_loading = js_urls.length;\n",
       "    for (var i = 0; i < js_urls.length; i++) {\n",
       "      var url = js_urls[i];\n",
       "      var s = document.createElement('script');\n",
       "      s.src = url;\n",
       "      s.async = false;\n",
       "      s.onreadystatechange = s.onload = function() {\n",
       "        root._bokeh_is_loading--;\n",
       "        if (root._bokeh_is_loading === 0) {\n",
       "          console.log(\"Bokeh: all BokehJS libraries loaded\");\n",
       "          run_callbacks()\n",
       "        }\n",
       "      };\n",
       "      s.onerror = function() {\n",
       "        console.warn(\"failed to load library \" + url);\n",
       "      };\n",
       "      console.log(\"Bokeh: injecting script tag for BokehJS library: \", url);\n",
       "      document.getElementsByTagName(\"head\")[0].appendChild(s);\n",
       "    }\n",
       "  };\n",
       "\n",
       "  var js_urls = [\"https://cdn.pydata.org/bokeh/release/bokeh-0.12.9.min.js\", \"https://cdn.pydata.org/bokeh/release/bokeh-widgets-0.12.9.min.js\", \"https://cdn.pydata.org/bokeh/release/bokeh-tables-0.12.9.min.js\", \"https://cdn.pydata.org/bokeh/release/bokeh-gl-0.12.9.min.js\"];\n",
       "\n",
       "  var inline_js = [\n",
       "    function(Bokeh) {\n",
       "      Bokeh.set_log_level(\"info\");\n",
       "    },\n",
       "    function(Bokeh) {\n",
       "      console.log(\"Bokeh: injecting CSS: https://cdn.pydata.org/bokeh/release/bokeh-0.12.9.min.css\");\n",
       "      Bokeh.embed.inject_css(\"https://cdn.pydata.org/bokeh/release/bokeh-0.12.9.min.css\");\n",
       "      console.log(\"Bokeh: injecting CSS: https://cdn.pydata.org/bokeh/release/bokeh-widgets-0.12.9.min.css\");\n",
       "      Bokeh.embed.inject_css(\"https://cdn.pydata.org/bokeh/release/bokeh-widgets-0.12.9.min.css\");\n",
       "      console.log(\"Bokeh: injecting CSS: https://cdn.pydata.org/bokeh/release/bokeh-tables-0.12.9.min.css\");\n",
       "      Bokeh.embed.inject_css(\"https://cdn.pydata.org/bokeh/release/bokeh-tables-0.12.9.min.css\");\n",
       "    }\n",
       "  ];\n",
       "\n",
       "  function run_inline_js() {\n",
       "    \n",
       "    if ((root.Bokeh !== undefined) || (force === true)) {\n",
       "      for (var i = 0; i < inline_js.length; i++) {\n",
       "        inline_js[i].call(root, root.Bokeh);\n",
       "      }} else if (Date.now() < root._bokeh_timeout) {\n",
       "      setTimeout(run_inline_js, 100);\n",
       "    } else if (!root._bokeh_failed_load) {\n",
       "      console.log(\"Bokeh: BokehJS failed to load within specified timeout.\");\n",
       "      root._bokeh_failed_load = true;\n",
       "    } else if (force !== true) {\n",
       "      var cell = $(document.getElementById(\"\")).parents('.cell').data().cell;\n",
       "      cell.output_area.append_execute_result(NB_LOAD_WARNING)\n",
       "    }\n",
       "\n",
       "  }\n",
       "\n",
       "  if (root._bokeh_is_loading === 0) {\n",
       "    console.log(\"Bokeh: BokehJS loaded, going straight to plotting\");\n",
       "    run_inline_js();\n",
       "  } else {\n",
       "    load_libs(js_urls, function() {\n",
       "      console.log(\"Bokeh: BokehJS plotting callback run at\", now());\n",
       "      run_inline_js();\n",
       "    });\n",
       "  }\n",
       "}(window));\n",
       "                    }\n",
       "                    setChartScript()\n",
       "                    </script>\n",
       "                    <div style=\"padding:5px\" id=\"pd-bkchartdiv-5d7146aa\">\n",
       "<div class=\"bk-root\">\n",
       "    <div class=\"bk-plotdiv\" id=\"0bc65f0c-41ff-445d-bb86-56ed9d31f9a5\"></div>\n",
       "</div></div>\n",
       "                    \n",
       "                \n",
       "        </div>\n",
       "    "
      ],
      "text/plain": [
       "<IPython.core.display.HTML object>"
      ]
     },
     "metadata": {},
     "output_type": "display_data"
    }
   ],
   "source": [
    "display(df)"
   ]
  }
 ],
 "metadata": {
  "kernelspec": {
   "display_name": "Python 3",
   "language": "python",
   "name": "python3"
  },
  "language_info": {
   "codemirror_mode": {
    "name": "ipython",
    "version": 3
   },
   "file_extension": ".py",
   "mimetype": "text/x-python",
   "name": "python",
   "nbconvert_exporter": "python",
   "pygments_lexer": "ipython3",
   "version": "3.6.5"
  }
 },
 "nbformat": 4,
 "nbformat_minor": 2
}
