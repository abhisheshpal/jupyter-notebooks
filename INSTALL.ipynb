{
 "cells": [
  {
   "cell_type": "code",
   "execution_count": null,
   "metadata": {},
   "outputs": [],
   "source": [
    "!conda install -y pymongo\n",
    "!pip install --user -U pixiedust requests matplotlib\n",
    "!pip install  --user -U  tables\n",
    "!conda update -y scikit-learn\n",
    "!jupyter nbextension enable --py matplotlib\n",
    "!git  config --global  user.name \"Marc Hanheide\"\n",
    "!git  config --global  user.email \"marc@hanheide.net\"\n",
    "!conda install -c conda-forge ipympl"
   ]
  }
 ],
 "metadata": {
  "kernelspec": {
   "display_name": "Python 3",
   "language": "python",
   "name": "python3"
  },
  "language_info": {
   "codemirror_mode": {
    "name": "ipython",
    "version": 3
   },
   "file_extension": ".py",
   "mimetype": "text/x-python",
   "name": "python",
   "nbconvert_exporter": "python",
   "pygments_lexer": "ipython3",
   "version": "3.6.5"
  }
 },
 "nbformat": 4,
 "nbformat_minor": 2
}
