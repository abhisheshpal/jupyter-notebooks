{
 "cells": [
  {
   "cell_type": "code",
   "execution_count": 1,
   "metadata": {},
   "outputs": [
    {
     "name": "stdout",
     "output_type": "stream",
     "text": [
      "ROS_ROOT=/opt/ros/kinetic/share/ros\n",
      "ROS_PACKAGE_PATH=/opt/ros/kinetic/share\n",
      "ROS_MASTER_URI=http://localhost:11311\n",
      "ROS_VERSION=1\n",
      "LD_LIBRARY_PATH=/opt/ros/kinetic/lib:/opt/ros/kinetic/lib/x86_64-linux-gnu\n",
      "PATH=/opt/ros/kinetic/bin:/opt/conda/bin:/usr/local/sbin:/usr/local/bin:/usr/sbin:/usr/bin:/sbin:/bin\n",
      "ROS_DISTRO=kinetic\n",
      "PYTHONPATH=/opt/ros/kinetic/lib/python2.7/dist-packages\n",
      "PKG_CONFIG_PATH=/opt/ros/kinetic/lib/pkgconfig:/opt/ros/kinetic/lib/x86_64-linux-gnu/pkgconfig\n",
      "CMAKE_PREFIX_PATH=/opt/ros/kinetic\n",
      "ROS_ETC_DIR=/opt/ros/kinetic/etc/ros\n"
     ]
    }
   ],
   "source": [
    "# You can use python inline. E.g. you can define functions to be used later:\n",
    "\n",
    "# import environment and expose in jupyter env\n",
    "# this only works when shellvars is installed as it is in L-CAS Juptyer images\n",
    "# https://github.com/LCAS/jupyterhub-deploy-docker/blob/master/singleuser/Dockerfile#L100\n",
    "\n",
    "import shellvars\n",
    "from os import environ\n",
    "\n",
    "def loadenv(filename='/opt/ros/kinetic/setup.bash'):\n",
    "    vs = shellvars.get_vars(filename)\n",
    "    for v in vs:\n",
    "        print('%s=%s' % (v.decode(\"utf-8\"), str(vs[v].decode(\"utf-8\"))))\n",
    "        environ[v.decode(\"utf-8\")] = str(vs[v].decode(\"utf-8\"))\n",
    "\n",
    "# you can call these functions easily\n",
    "# (This example is a good way to load environment variables from a config file)\n",
    "\n",
    "loadenv('/opt/ros/kinetic/setup.bash')"
   ]
  },
  {
   "cell_type": "code",
   "execution_count": 2,
   "metadata": {},
   "outputs": [
    {
     "name": "stderr",
     "output_type": "stream",
     "text": [
      "Failed to load Python extension for LZ4 support. LZ4 compression will not be available.\n"
     ]
    },
    {
     "name": "stdout",
     "output_type": "stream",
     "text": [
      "Pixiedust database opened successfully\n"
     ]
    },
    {
     "data": {
      "text/html": [
       "\n",
       "        <div style=\"margin:10px\">\n",
       "            <a href=\"https://github.com/ibm-watson-data-lab/pixiedust\" target=\"_new\">\n",
       "                <img src=\"https://github.com/ibm-watson-data-lab/pixiedust/raw/master/docs/_static/pd_icon32.png\" style=\"float:left;margin-right:10px\"/>\n",
       "            </a>\n",
       "            <span>Pixiedust version 1.1.14</span>\n",
       "        </div>\n",
       "        "
      ],
      "text/plain": [
       "<IPython.core.display.HTML object>"
      ]
     },
     "metadata": {},
     "output_type": "display_data"
    },
    {
     "data": {
      "text/html": [
       "<div>Warning: You are not running the latest version of PixieDust. Current is 1.1.14, Latest is 1.1.15</div>"
      ],
      "text/plain": [
       "<IPython.core.display.HTML object>"
      ]
     },
     "metadata": {},
     "output_type": "display_data"
    },
    {
     "data": {
      "text/html": [
       "\n",
       "                <div>Please copy and run the following command in a new cell to upgrade: <span style=\"background-color:#ececec;font-family:monospace;padding:0 5px\">!pip install --user --upgrade pixiedust</span></div>\n",
       "            "
      ],
      "text/plain": [
       "<IPython.core.display.HTML object>"
      ]
     },
     "metadata": {},
     "output_type": "display_data"
    },
    {
     "data": {
      "text/html": [
       "<div>Please restart kernel after upgrading.</div>"
      ],
      "text/plain": [
       "<IPython.core.display.HTML object>"
      ]
     },
     "metadata": {},
     "output_type": "display_data"
    }
   ],
   "source": [
    "# install marc-hanheide's own python3 version of rosbag_panda: https://github.com/marc-hanheide/RosbagPandas\n",
    "#   - clone it\n",
    "#   - run pip install --user -U . in it \n",
    "# tutorial at https://nimbus.unl.edu/2014/11/using-rosbag_pandas-to-analyze-rosbag-files/\n",
    "#sudo apt-get install ros-kinetic-rosbag python-roslz4\n",
    "def expand_sys_path():\n",
    "    import sys\n",
    "    from os import environ\n",
    "\n",
    "    extra_paths = environ['PYTHONPATH'].split(':')\n",
    "    sys.path.extend(extra_paths)\n",
    "\n",
    "    new_path = []\n",
    "    for p in sys.path:\n",
    "        if not p in new_path:\n",
    "            new_path.append(p)\n",
    "\n",
    "    sys.path = new_path\n",
    "\n",
    "\n",
    "expand_sys_path()\n",
    "\n",
    "import rosbag\n",
    "import pixiedust\n",
    "from metakernel.display import display\n",
    "from pprint import pprint\n"
   ]
  },
  {
   "cell_type": "code",
   "execution_count": 66,
   "metadata": {},
   "outputs": [
    {
     "name": "stdout",
     "output_type": "stream",
     "text": [
      "/robot5/human_perception/tracked_persons TopicTuple(msg_type='spencer_tracking_msgs/TrackedPersons', message_count=36, connections=1, frequency=None)\n",
      "/robot5/online_qtc_creator/qtc_array TopicTuple(msg_type='hrsi_representation/QTCArray', message_count=5, connections=1, frequency=0.6393609902212601)\n",
      "/robot5/people_tracker/positions TopicTuple(msg_type='bayes_people_tracker/PeopleTracker', message_count=36, connections=1, frequency=None)\n",
      "/robot5/robot_poseST TopicTuple(msg_type='geometry_msgs/PoseStamped', message_count=102, connections=1, frequency=9.92445749521441)\n",
      "/tf TopicTuple(msg_type='tf2_msgs/TFMessage', message_count=5754, connections=5, frequency=None)\n",
      "/tf_static TopicTuple(msg_type='tf2_msgs/TFMessage', message_count=2, connections=2, frequency=1.0900162373100537)\n"
     ]
    }
   ],
   "source": [
    "import pandas as pd\n",
    "import numpy as np\n",
    "\n",
    "def bag2df(bagfile):\n",
    "\n",
    "    bag = rosbag.Bag(bagfile)\n",
    "    topics = bag.get_type_and_topic_info()[1]\n",
    "\n",
    "    for t in topics:\n",
    "        print(t, topics[t])\n",
    "\n",
    "    import rosbag_pandas\n",
    "    dfs = {\n",
    "       'qtc': rosbag_pandas.bag_to_dataframe(bagfile, include=['/robot5/online_qtc_creator/qtc_array']),\n",
    "       'people_pose': rosbag_pandas.bag_to_dataframe(bagfile, include=['/robot5/human_perception/tracked_persons']),\n",
    "       'robot_pose': rosbag_pandas.bag_to_dataframe(bagfile, include=['/robot5/robot_poseST']),\n",
    "    }\n",
    "    dfs['qtc']['ts'] = (\n",
    "        dfs['qtc']['/robot5/online_qtc_creator/qtc_array/header/stamp/secs'] +\n",
    "        (dfs['qtc']['/robot5/online_qtc_creator/qtc_array/header/stamp/nsecs'] / 10**9)\n",
    "    )\n",
    "    dfs['people_pose']['ts'] = (\n",
    "        dfs['people_pose']['/robot5/human_perception/tracked_persons/header/stamp/secs'] +\n",
    "        (dfs['people_pose']['/robot5/human_perception/tracked_persons/header/stamp/nsecs'] / 10**9)\n",
    "    )\n",
    "    dfs['robot_pose']['ts'] = (\n",
    "        dfs['robot_pose']['/robot5/robot_poseST/header/stamp/secs'] +\n",
    "        (dfs['robot_pose']['/robot5/robot_poseST/header/stamp/nsecs'] / 10**9)\n",
    "    )\n",
    "\n",
    "    #for d in dfs:\n",
    "    #    df[d].set_index('ts', drop=False, inplace=True)\n",
    "    #    df[d].sort_index(inplace=True)\n",
    "\n",
    "    \n",
    "#    df = rosbag_pandas.bag_to_dataframe(bagfile, include=['/robot5/online_qtc_creator/qtc_array'])\n",
    "    return dfs\n",
    "    \n",
    "df = bag2df('bags/S1-T1.1-A1_tiny_2019-02-05-19-31-12.bag')\n"
   ]
  },
  {
   "cell_type": "code",
   "execution_count": 76,
   "metadata": {},
   "outputs": [
    {
     "name": "stderr",
     "output_type": "stream",
     "text": [
      "/opt/conda/lib/python3.6/site-packages/ipykernel_launcher.py:27: SettingWithCopyWarning: \n",
      "A value is trying to be set on a copy of a slice from a DataFrame\n",
      "\n",
      "See the caveats in the documentation: http://pandas.pydata.org/pandas-docs/stable/indexing.html#indexing-view-versus-copy\n"
     ]
    },
    {
     "data": {
      "text/html": [
       "<div>\n",
       "<table border=\"1\" class=\"dataframe\">\n",
       "  <thead>\n",
       "    <tr style=\"text-align: right;\">\n",
       "      <th></th>\n",
       "      <th>time</th>\n",
       "      <th>ts</th>\n",
       "      <th>/robot5/online_qtc_creator/qtc_array/qtc/0/qtc_robot_human</th>\n",
       "      <th>/robot5/human_perception/tracked_persons/tracks/0/pose/pose/position/x</th>\n",
       "      <th>/robot5/human_perception/tracked_persons/tracks/0/pose/pose/position/y</th>\n",
       "      <th>/robot5/robot_poseST/pose/position/x</th>\n",
       "      <th>/robot5/robot_poseST/pose/position/y</th>\n",
       "    </tr>\n",
       "  </thead>\n",
       "  <tbody>\n",
       "    <tr>\n",
       "      <th>28</th>\n",
       "      <td>5.437998</td>\n",
       "      <td>1.544625e+09</td>\n",
       "      <td>[\"+,-,+,+\"]</td>\n",
       "      <td>0.114480</td>\n",
       "      <td>-23.265967</td>\n",
       "      <td>-19.408024</td>\n",
       "      <td>-40.379599</td>\n",
       "    </tr>\n",
       "    <tr>\n",
       "      <th>29</th>\n",
       "      <td>6.026870</td>\n",
       "      <td>1.544625e+09</td>\n",
       "      <td>[\"+,-,+,+\"]</td>\n",
       "      <td>0.066264</td>\n",
       "      <td>-23.246599</td>\n",
       "      <td>-19.408024</td>\n",
       "      <td>-40.379599</td>\n",
       "    </tr>\n",
       "    <tr>\n",
       "      <th>30</th>\n",
       "      <td>7.464966</td>\n",
       "      <td>1.544625e+09</td>\n",
       "      <td>[\"+,-,+,+\", \"0,-,+,+\", \"-,-,+,+\"]</td>\n",
       "      <td>0.067845</td>\n",
       "      <td>-23.233645</td>\n",
       "      <td>-18.479835</td>\n",
       "      <td>-40.754825</td>\n",
       "    </tr>\n",
       "    <tr>\n",
       "      <th>31</th>\n",
       "      <td>7.784698</td>\n",
       "      <td>1.544625e+09</td>\n",
       "      <td>[\"+,-,+,+\", \"0,-,+,+\", \"-,-,+,+\"]</td>\n",
       "      <td>0.128594</td>\n",
       "      <td>-23.243018</td>\n",
       "      <td>-18.370623</td>\n",
       "      <td>-40.792810</td>\n",
       "    </tr>\n",
       "    <tr>\n",
       "      <th>32</th>\n",
       "      <td>8.144221</td>\n",
       "      <td>1.544625e+09</td>\n",
       "      <td>[\"+,-,+,+\", \"0,-,+,+\", \"-,-,+,+\"]</td>\n",
       "      <td>0.116902</td>\n",
       "      <td>-23.233608</td>\n",
       "      <td>-18.370623</td>\n",
       "      <td>-40.792810</td>\n",
       "    </tr>\n",
       "    <tr>\n",
       "      <th>33</th>\n",
       "      <td>8.723233</td>\n",
       "      <td>1.544625e+09</td>\n",
       "      <td>[\"+,-,+,+\", \"0,-,+,+\", \"-,-,+,+\"]</td>\n",
       "      <td>0.101631</td>\n",
       "      <td>-23.226837</td>\n",
       "      <td>-17.978880</td>\n",
       "      <td>-40.918434</td>\n",
       "    </tr>\n",
       "    <tr>\n",
       "      <th>34</th>\n",
       "      <td>8.926234</td>\n",
       "      <td>1.544625e+09</td>\n",
       "      <td>[\"+,-,+,+\", \"0,-,+,+\", \"-,-,+,+\"]</td>\n",
       "      <td>0.135862</td>\n",
       "      <td>-23.237995</td>\n",
       "      <td>-17.978880</td>\n",
       "      <td>-40.918434</td>\n",
       "    </tr>\n",
       "    <tr>\n",
       "      <th>35</th>\n",
       "      <td>12.263090</td>\n",
       "      <td>1.544625e+09</td>\n",
       "      <td>[\"+,-,+,+\", \"0,-,+,+\", \"-,-,+,+\"]</td>\n",
       "      <td>0.075514</td>\n",
       "      <td>-23.290969</td>\n",
       "      <td>-17.587323</td>\n",
       "      <td>-41.045228</td>\n",
       "    </tr>\n",
       "  </tbody>\n",
       "</table>\n",
       "</div>"
      ],
      "text/plain": [
       "         time            ts  \\\n",
       "28   5.437998  1.544625e+09   \n",
       "29   6.026870  1.544625e+09   \n",
       "30   7.464966  1.544625e+09   \n",
       "31   7.784698  1.544625e+09   \n",
       "32   8.144221  1.544625e+09   \n",
       "33   8.723233  1.544625e+09   \n",
       "34   8.926234  1.544625e+09   \n",
       "35  12.263090  1.544625e+09   \n",
       "\n",
       "   /robot5/online_qtc_creator/qtc_array/qtc/0/qtc_robot_human  \\\n",
       "28                                        [\"+,-,+,+\"]           \n",
       "29                                        [\"+,-,+,+\"]           \n",
       "30                  [\"+,-,+,+\", \"0,-,+,+\", \"-,-,+,+\"]           \n",
       "31                  [\"+,-,+,+\", \"0,-,+,+\", \"-,-,+,+\"]           \n",
       "32                  [\"+,-,+,+\", \"0,-,+,+\", \"-,-,+,+\"]           \n",
       "33                  [\"+,-,+,+\", \"0,-,+,+\", \"-,-,+,+\"]           \n",
       "34                  [\"+,-,+,+\", \"0,-,+,+\", \"-,-,+,+\"]           \n",
       "35                  [\"+,-,+,+\", \"0,-,+,+\", \"-,-,+,+\"]           \n",
       "\n",
       "    /robot5/human_perception/tracked_persons/tracks/0/pose/pose/position/x  \\\n",
       "28                                           0.114480                        \n",
       "29                                           0.066264                        \n",
       "30                                           0.067845                        \n",
       "31                                           0.128594                        \n",
       "32                                           0.116902                        \n",
       "33                                           0.101631                        \n",
       "34                                           0.135862                        \n",
       "35                                           0.075514                        \n",
       "\n",
       "    /robot5/human_perception/tracked_persons/tracks/0/pose/pose/position/y  \\\n",
       "28                                         -23.265967                        \n",
       "29                                         -23.246599                        \n",
       "30                                         -23.233645                        \n",
       "31                                         -23.243018                        \n",
       "32                                         -23.233608                        \n",
       "33                                         -23.226837                        \n",
       "34                                         -23.237995                        \n",
       "35                                         -23.290969                        \n",
       "\n",
       "    /robot5/robot_poseST/pose/position/x  /robot5/robot_poseST/pose/position/y  \n",
       "28                            -19.408024                            -40.379599  \n",
       "29                            -19.408024                            -40.379599  \n",
       "30                            -18.479835                            -40.754825  \n",
       "31                            -18.370623                            -40.792810  \n",
       "32                            -18.370623                            -40.792810  \n",
       "33                            -17.978880                            -40.918434  \n",
       "34                            -17.978880                            -40.918434  \n",
       "35                            -17.587323                            -41.045228  "
      ]
     },
     "metadata": {},
     "output_type": "display_data"
    }
   ],
   "source": [
    "from yaml import load\n",
    "#df['people_pose'].info()\n",
    "#display(df['people_pose'])\n",
    "\n",
    "df_qtc_people = pd.merge_asof(\n",
    "    df['people_pose'], df['qtc'])\n",
    "df_all = pd.merge_asof(\n",
    "    df_qtc_people, df['robot_pose'])\n",
    "\n",
    "#display(df_all)\n",
    "#pprint(df_all.columns.tolist())\n",
    "\n",
    "start_time=min(df_all['ts'])\n",
    "df_all['time'] = df_all['ts'] - start_time\n",
    "\n",
    "\n",
    "df_selected = df_all[\n",
    "    [\n",
    "        'time',\n",
    "        'ts',\n",
    "        '/robot5/online_qtc_creator/qtc_array/qtc/0/qtc_robot_human',\n",
    "        '/robot5/human_perception/tracked_persons/tracks/0/pose/pose/position/x',\n",
    "        '/robot5/human_perception/tracked_persons/tracks/0/pose/pose/position/y',\n",
    "        '/robot5/robot_poseST/pose/position/x',\n",
    "        '/robot5/robot_poseST/pose/position/y']\n",
    "]\n",
    "df_selected.dropna(inplace=True)\n",
    "\n",
    "display(df_selected)\n",
    "\n",
    "\n",
    "\n"
   ]
  }
 ],
 "metadata": {
  "kernelspec": {
   "display_name": "Python 3",
   "language": "python",
   "name": "python3"
  },
  "language_info": {
   "codemirror_mode": {
    "name": "ipython",
    "version": 3
   },
   "file_extension": ".py",
   "mimetype": "text/x-python",
   "name": "python",
   "nbconvert_exporter": "python",
   "pygments_lexer": "ipython3",
   "version": "3.6.5"
  }
 },
 "nbformat": 4,
 "nbformat_minor": 2
}
