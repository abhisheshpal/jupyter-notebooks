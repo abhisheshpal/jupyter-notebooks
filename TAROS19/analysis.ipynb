{
 "cells": [
  {
   "cell_type": "code",
   "execution_count": 1,
   "metadata": {},
   "outputs": [
    {
     "name": "stdout",
     "output_type": "stream",
     "text": [
      "ROS_ROOT=/opt/ros/kinetic/share/ros\n",
      "ROS_PACKAGE_PATH=/opt/ros/kinetic/share\n",
      "ROS_MASTER_URI=http://localhost:11311\n",
      "ROS_VERSION=1\n",
      "LD_LIBRARY_PATH=/opt/ros/kinetic/lib:/opt/ros/kinetic/lib/x86_64-linux-gnu\n",
      "PATH=/opt/ros/kinetic/bin:/opt/conda/bin:/usr/local/sbin:/usr/local/bin:/usr/sbin:/usr/bin:/sbin:/bin\n",
      "ROS_DISTRO=kinetic\n",
      "PYTHONPATH=/opt/ros/kinetic/lib/python2.7/dist-packages\n",
      "PKG_CONFIG_PATH=/opt/ros/kinetic/lib/pkgconfig:/opt/ros/kinetic/lib/x86_64-linux-gnu/pkgconfig\n",
      "CMAKE_PREFIX_PATH=/opt/ros/kinetic\n",
      "ROS_ETC_DIR=/opt/ros/kinetic/etc/ros\n"
     ]
    }
   ],
   "source": [
    "# You can use python inline. E.g. you can define functions to be used later:\n",
    "\n",
    "# import environment and expose in jupyter env\n",
    "# this only works when shellvars is installed as it is in L-CAS Juptyer images\n",
    "# https://github.com/LCAS/jupyterhub-deploy-docker/blob/master/singleuser/Dockerfile#L100\n",
    "\n",
    "import shellvars\n",
    "from os import environ\n",
    "\n",
    "def loadenv(filename='/opt/ros/kinetic/setup.bash'):\n",
    "    vs = shellvars.get_vars(filename)\n",
    "    for v in vs:\n",
    "        print('%s=%s' % (v.decode(\"utf-8\"), str(vs[v].decode(\"utf-8\"))))\n",
    "        environ[v.decode(\"utf-8\")] = str(vs[v].decode(\"utf-8\"))\n",
    "\n",
    "# you can call these functions easily\n",
    "# (This example is a good way to load environment variables from a config file)\n",
    "\n",
    "loadenv('/opt/ros/kinetic/setup.bash')"
   ]
  },
  {
   "cell_type": "code",
   "execution_count": 2,
   "metadata": {},
   "outputs": [
    {
     "name": "stderr",
     "output_type": "stream",
     "text": [
      "Failed to load Python extension for LZ4 support. LZ4 compression will not be available.\n"
     ]
    },
    {
     "name": "stdout",
     "output_type": "stream",
     "text": [
      "Pixiedust database opened successfully\n"
     ]
    },
    {
     "data": {
      "text/html": [
       "\n",
       "        <div style=\"margin:10px\">\n",
       "            <a href=\"https://github.com/ibm-watson-data-lab/pixiedust\" target=\"_new\">\n",
       "                <img src=\"https://github.com/ibm-watson-data-lab/pixiedust/raw/master/docs/_static/pd_icon32.png\" style=\"float:left;margin-right:10px\"/>\n",
       "            </a>\n",
       "            <span>Pixiedust version 1.1.14</span>\n",
       "        </div>\n",
       "        "
      ],
      "text/plain": [
       "<IPython.core.display.HTML object>"
      ]
     },
     "metadata": {},
     "output_type": "display_data"
    },
    {
     "data": {
      "text/html": [
       "<div>Warning: You are not running the latest version of PixieDust. Current is 1.1.14, Latest is 1.1.15</div>"
      ],
      "text/plain": [
       "<IPython.core.display.HTML object>"
      ]
     },
     "metadata": {},
     "output_type": "display_data"
    },
    {
     "data": {
      "text/html": [
       "\n",
       "                <div>Please copy and run the following command in a new cell to upgrade: <span style=\"background-color:#ececec;font-family:monospace;padding:0 5px\">!pip install --user --upgrade pixiedust</span></div>\n",
       "            "
      ],
      "text/plain": [
       "<IPython.core.display.HTML object>"
      ]
     },
     "metadata": {},
     "output_type": "display_data"
    },
    {
     "data": {
      "text/html": [
       "<div>Please restart kernel after upgrading.</div>"
      ],
      "text/plain": [
       "<IPython.core.display.HTML object>"
      ]
     },
     "metadata": {},
     "output_type": "display_data"
    }
   ],
   "source": [
    "# install marc-hanheide's own python3 version of rosbag_panda: https://github.com/marc-hanheide/RosbagPandas\n",
    "#   - clone it\n",
    "#   - run pip install --user -U . in it \n",
    "# tutorial at https://nimbus.unl.edu/2014/11/using-rosbag_pandas-to-analyze-rosbag-files/\n",
    "#sudo apt-get install ros-kinetic-rosbag python-roslz4\n",
    "def expand_sys_path():\n",
    "    import sys\n",
    "    from os import environ\n",
    "\n",
    "    extra_paths = environ['PYTHONPATH'].split(':')\n",
    "    sys.path.extend(extra_paths)\n",
    "\n",
    "    new_path = []\n",
    "    for p in sys.path:\n",
    "        if not p in new_path:\n",
    "            new_path.append(p)\n",
    "\n",
    "    sys.path = new_path\n",
    "\n",
    "\n",
    "expand_sys_path()\n",
    "\n",
    "import rosbag\n",
    "import pixiedust\n",
    "from metakernel.display import display\n",
    "from pprint import pprint\n"
   ]
  },
  {
   "cell_type": "code",
   "execution_count": 116,
   "metadata": {},
   "outputs": [
    {
     "name": "stdout",
     "output_type": "stream",
     "text": [
      "read bags/S1-T2.1-A1_tiny_2019-02-06-18-43-32.bag\n",
      "read bags/S1-T1.1-A2_tiny_2019-02-06-18-36-33.bag\n",
      "read bags/S1-T4.2-A1_tiny_2019-02-06-19-06-45.bag\n",
      "read bags/S1-T2.1-A2_tiny_2019-02-06-18-45-51.bag\n",
      "read bags/S1-T1.1-A1_tiny_2019-02-06-18-34-14.bag\n",
      "read bags/S1-T2.2-A2_tiny_2019-02-06-18-50-29.bag\n",
      "read bags/S1-T3.1-A2_tiny_2019-02-06-18-55-08.bag\n",
      "read bags/S1-T1.2-A2_tiny_2019-02-06-18-41-12.bag\n",
      "read bags/S1-T2.2-A1_tiny_2019-02-06-18-48-10.bag\n",
      "read bags/S1-T1.2-A1_tiny_2019-02-06-18-38-52.bag\n",
      "read bags/S1-T3.2-A1_tiny_2019-02-06-18-57-27.bag\n",
      "read bags/S1-T4.2-A2_tiny_2019-02-06-19-09-04.bag\n",
      "read bags/S1-T3.2-A2_tiny_2019-02-06-18-59-48.bag\n",
      "read bags/S1-T3.1-A1_tiny_2019-02-06-18-52-49.bag\n",
      "read bags/S1-T4.1-A2_tiny_2019-02-06-19-04-25.bag\n",
      "read bags/S1-T4.1-A1_tiny_2019-02-06-19-02-06.bag\n"
     ]
    }
   ],
   "source": [
    "import pandas as pd\n",
    "import numpy as np\n",
    "\n",
    "def bag2df(bagfile):\n",
    "\n",
    "    bag = rosbag.Bag(bagfile)\n",
    "    topics = bag.get_type_and_topic_info()[1]\n",
    "\n",
    "    #for t in topics:\n",
    "    #    print(t, topics[t])\n",
    "\n",
    "    import rosbag_pandas\n",
    "    dfs = {\n",
    "       'qtc': rosbag_pandas.bag_to_dataframe(bagfile, include=['/robot5/online_qtc_creator/qtc_array']),\n",
    "       'people_pose': rosbag_pandas.bag_to_dataframe(bagfile, include=['/robot5/human_perception/tracked_persons']),\n",
    "       'robot_pose': rosbag_pandas.bag_to_dataframe(bagfile, include=['/robot5/robot_pose_odom']),\n",
    "    }\n",
    "    dfs['qtc']['ts'] = (\n",
    "        dfs['qtc']['/robot5/online_qtc_creator/qtc_array/header/stamp/secs'] +\n",
    "        (dfs['qtc']['/robot5/online_qtc_creator/qtc_array/header/stamp/nsecs'] / 10**9)\n",
    "    )\n",
    "    dfs['people_pose']['ts'] = (\n",
    "        dfs['people_pose']['/robot5/human_perception/tracked_persons/header/stamp/secs'] +\n",
    "        (dfs['people_pose']['/robot5/human_perception/tracked_persons/header/stamp/nsecs'] / 10**9)\n",
    "    )\n",
    "    dfs['robot_pose']['ts'] = (\n",
    "        dfs['robot_pose']['/robot5/robot_pose_odom/header/stamp/secs'] +\n",
    "        (dfs['robot_pose']['/robot5/robot_pose_odom/header/stamp/nsecs'] / 10**9)\n",
    "    )\n",
    "\n",
    "    #for d in dfs:\n",
    "    #    df[d].set_index('ts', drop=False, inplace=True)\n",
    "    #    df[d].sort_index(inplace=True)\n",
    "\n",
    "    \n",
    "#    df = rosbag_pandas.bag_to_dataframe(bagfile, include=['/robot5/online_qtc_creator/qtc_array'])\n",
    "    return dfs\n",
    "\n",
    "\n",
    "import glob\n",
    "import re\n",
    "from collections import defaultdict\n",
    "\n",
    "df = defaultdict(dict)\n",
    "\n",
    "rexpr = re.compile('bags/S([0-9])-T([0-9]\\.[0-9])-A(\\d*)_tiny_.*')\n",
    "for filepath in glob.iglob('bags/*.bag'):\n",
    "    s = rexpr.match(filepath)\n",
    "    (subject, task, repetition) = s.groups()\n",
    "    #print(filepath)\n",
    "    #print(subject, task, repetition)\n",
    "    try:\n",
    "        df[task][repetition] = bag2df(filepath)\n",
    "        print('read %s' % filepath)\n",
    "    except Exception as e:\n",
    "        print('*** error in processing %s: %s' % (filepath, str(e)))\n",
    "\n",
    "#df = bag2df('bags/S1-T1.1-A1_tiny_2019-02-05-19-31-12.bag')\n"
   ]
  },
  {
   "cell_type": "code",
   "execution_count": 143,
   "metadata": {},
   "outputs": [
    {
     "name": "stderr",
     "output_type": "stream",
     "text": [
      "/opt/conda/lib/python3.6/site-packages/ipykernel_launcher.py:33: SettingWithCopyWarning: \n",
      "A value is trying to be set on a copy of a slice from a DataFrame\n",
      "\n",
      "See the caveats in the documentation: http://pandas.pydata.org/pandas-docs/stable/indexing.html#indexing-view-versus-copy\n"
     ]
    },
    {
     "name": "stdout",
     "output_type": "stream",
     "text": [
      "task: 2.1 (user: 0), rep: 1: ['[\"-,0,+,+\", \"0,0,0,+\", \"0,-,0,+\", \"0,0,0,0\", \"0,+,0,-\", \"0,+,0,0\", \"0,+,0,+\", \"0,0,0,+\"]']\n",
      "task: 2.1 (user: 1), rep: 1: ['[\"-,-,+,+\", \"-,0,+,0\", \"-,+,+,-\", \"-,0,+,-\", \"-,-,+,-\", \"-,-,+,0\", \"-,-,+,+\"]']\n",
      "task: 2.1 (user: 2), rep: 1: ['[\"0,-,+,+\", \"0,-,+,0\", \"0,-,+,-\", \"0,-,+,0\", \"-,-,+,+\", \"-,0,+,0\", \"-,+,+,-\", \"-,0,+,-\", \"-,-,+,-\", \"-,-,+,0\", \"-,-,+,+\"]']\n",
      "task: 2.1 (user: 3), rep: 1: ['[\"0,-,+,+\", \"0,-,+,0\", \"0,-,+,-\", \"0,-,+,0\", \"-,-,+,+\", \"-,0,+,0\", \"-,+,+,-\", \"-,0,+,-\", \"-,-,+,-\"]']\n",
      "task: 2.1 (user: 0), rep: 2: ['[\"0,0,-,+\", \"0,0,0,+\", \"0,+,0,+\", \"0,+,0,0\", \"0,0,0,0\"]']\n",
      "task: 1.1 (user: 0), rep: 2: ['[\"-,-,+,+\", \"0,-,+,+\", \"-,-,+,+\", \"0,-,+,+\", \"-,-,+,+\"]']\n",
      "task: 1.1 (user: 1), rep: 2: ['[\"0,-,+,+\", \"-,-,+,+\", \"0,-,+,+\"]']\n",
      "task: 1.1 (user: 0), rep: 1: ['[\"+,-,+,+\", \"0,-,+,+\", \"-,-,+,+\"]']\n",
      "task: 4.2 (user: 0), rep: 1: ['[\"0,0,+,0\", \"+,0,+,0\", \"0,0,+,0\", \"-,0,+,0\", \"0,0,+,0\", \"+,0,+,0\", \"+,0,0,0\", \"+,0,-,0\"]']\n",
      "task: 4.2 (user: 0), rep: 2: ['[\"+,0,+,0\"]']\n",
      "task: 2.2 (user: 0), rep: 2: ['[\"+,-,+,+\", \"+,0,+,+\", \"+,+,+,+\"]']\n",
      "task: 2.2 (user: 0), rep: 1: ['[\"+,-,+,0\", \"+,0,+,0\", \"+,+,+,-\", \"0,+,+,-\", \"+,+,+,-\"]']\n",
      "task: 3.1 (user: 0), rep: 2: ['[\"0,-,+,+\", \"+,-,+,+\", \"0,0,+,0\", \"0,0,0,0\", \"0,-,0,-\", \"0,0,0,0\", \"0,+,0,+\", \"0,0,0,0\", \"0,-,0,0\"]']\n",
      "task: 3.1 (user: 1), rep: 2: ['[\"+,-,+,+\", \"0,0,+,0\", \"0,+,+,-\", \"0,+,0,-\", \"0,0,0,-\", \"0,+,0,-\"]']\n",
      "task: 3.1 (user: 2), rep: 2: ['[\"+,-,+,+\", \"0,0,+,0\", \"0,+,+,-\", \"0,+,0,-\", \"0,0,0,-\", \"0,+,0,-\"]']\n",
      "task: 3.1 (user: 3), rep: 2: ['[\"0,-,+,+\"]']\n",
      "task: 3.1 (user: 0), rep: 1: ['[\"+,-,+,+\", \"0,-,+,+\", \"0,0,0,0\", \"0,0,-,0\", \"0,0,0,0\", \"0,+,0,0\", \"0,0,0,0\"]']\n",
      "task: 3.1 (user: 1), rep: 1: ['[\"0,+,-,-\"]']\n",
      "task: 1.2 (user: 0), rep: 2: ['[\"0,+,0,+\", \"0,+,0,0\"]']\n",
      "task: 1.2 (user: 1), rep: 2: ['[\"0,-,+,-\", \"0,-,+,0\", \"0,-,+,+\", \"0,-,+,0\", \"0,-,+,-\"]']\n",
      "*** error in 1.2/1: left keys must be sorted\n",
      "task: 3.2 (user: 0), rep: 1: ['[\"+,-,+,+\", \"0,0,0,0\", \"-,0,-,0\", \"0,0,0,0\", \"0,0,0,+\", \"0,-,0,+\"]']\n",
      "task: 3.2 (user: 1), rep: 1: ['[\"+,+,+,-\", \"+,0,+,0\", \"+,-,+,+\", \"0,-,0,+\", \"-,-,-,+\"]']\n",
      "task: 3.2 (user: 0), rep: 2: ['[\"+,+,+,-\", \"+,+,0,-\", \"0,+,0,-\"]']\n",
      "task: 3.2 (user: 1), rep: 2: ['[\"0,+,0,-\", \"+,+,+,-\"]']\n",
      "task: 4.1 (user: 0), rep: 2: ['[\"+,-,-,+\", \"0,-,0,+\", \"-,-,+,+\", \"0,0,0,0\", \"0,+,0,-\", \"0,+,0,0\", \"0,+,0,+\", \"0,0,0,+\", \"0,-,0,+\"]']\n",
      "task: 4.1 (user: 1), rep: 2: ['[\"-,0,+,0\", \"-,-,+,-\", \"0,-,0,-\", \"+,-,-,-\", \"0,-,0,-\", \"-,-,+,-\"]']\n",
      "task: 4.1 (user: 0), rep: 1: ['[\"0,-,0,+\", \"+,-,-,+\", \"0,-,0,+\", \"0,-,+,+\", \"0,-,+,0\", \"-,-,+,0\", \"0,-,0,0\", \"0,-,0,+\", \"0,0,0,+\", \"0,+,0,+\", \"0,0,0,+\"]']\n",
      "task: 4.1 (user: 1), rep: 1: ['[\"-,-,+,+\"]']\n",
      "task: 4.1 (user: 2), rep: 1: ['[\"-,-,+,+\", \"-,-,+,0\"]']\n"
     ]
    }
   ],
   "source": [
    "from yaml import load\n",
    "#df['people_pose'].info()\n",
    "#display(df['people_pose'])\n",
    "\n",
    "for task in df:\n",
    "    for rep in df[task]:\n",
    "        try:\n",
    "            c = df[task][rep]\n",
    "\n",
    "            df_qtc_people = pd.merge_asof(\n",
    "                c['qtc'], c['people_pose'])\n",
    "            df_all = pd.merge_asof(\n",
    "                df_qtc_people, c['robot_pose'])\n",
    "\n",
    "            #display(df_all)\n",
    "            #pprint(df_all.columns.tolist())\n",
    "\n",
    "            start_time=min(df_all['ts'])\n",
    "            df_all['time'] = df_all['ts'] - start_time\n",
    "\n",
    "            for p in range(0,9):\n",
    "                try: \n",
    "                    df_selected = df_all[\n",
    "                        [\n",
    "                            'time',\n",
    "                            'ts',\n",
    "                            '/robot5/online_qtc_creator/qtc_array/qtc/%d/qtc_robot_human' % p,\n",
    "                            '/robot5/human_perception/tracked_persons/tracks/%d/pose/pose/position/x' % p,\n",
    "                            '/robot5/human_perception/tracked_persons/tracks/%d/pose/pose/position/y' % p,\n",
    "                            '/robot5/robot_pose_odom/pose/position/x',\n",
    "                            '/robot5/robot_pose_odom/pose/position/y']\n",
    "                    ]\n",
    "                    df_selected.dropna(inplace=True)\n",
    "                    qtc_seq = df_selected[-1:]['/robot5/online_qtc_creator/qtc_array/qtc/%d/qtc_robot_human' % p].tolist()\n",
    "                    #print(type(qtc_seq))\n",
    "                    print('task: %s (user: %d), rep: %s: %s' % (task, p, rep, qtc_seq))\n",
    "                except:\n",
    "                    pass\n",
    "            #display(df_selected)\n",
    "        except Exception as e:\n",
    "            print('*** error in %s/%s: %s' % (task, rep, str(e)))\n",
    "\n",
    "\n",
    "\n"
   ]
  },
  {
   "cell_type": "code",
   "execution_count": null,
   "metadata": {},
   "outputs": [],
   "source": []
  }
 ],
 "metadata": {
  "kernelspec": {
   "display_name": "Python 3",
   "language": "python",
   "name": "python3"
  },
  "language_info": {
   "codemirror_mode": {
    "name": "ipython",
    "version": 3
   },
   "file_extension": ".py",
   "mimetype": "text/x-python",
   "name": "python",
   "nbconvert_exporter": "python",
   "pygments_lexer": "ipython3",
   "version": "3.6.5"
  }
 },
 "nbformat": 4,
 "nbformat_minor": 2
}
