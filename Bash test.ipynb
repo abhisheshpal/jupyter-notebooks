{
 "cells": [
  {
   "cell_type": "code",
   "execution_count": 3,
   "metadata": {},
   "outputs": [
    {
     "name": "stdout",
     "output_type": "stream",
     "text": [
      "/home/jovyan\n",
      "barplots.ipynb       bloom-tmp  octave test.ipynb  Test.ipynb\n",
      "Bash test.ipynb      core       octave-workspace   work\n",
      "Bloom release.ipynb  iliad      r-test.ipynb       workspace\n"
     ]
    }
   ],
   "source": [
    "pwd\n",
    "ls\n"
   ]
  },
  {
   "cell_type": "code",
   "execution_count": 4,
   "metadata": {},
   "outputs": [
    {
     "name": "stdout",
     "output_type": "stream",
     "text": [
      "HOSTNAME=d05fc2ee92c4\n",
      "SHELL=/bin/bash\n",
      "NB_USER=jovyan\n",
      "JPY_API_TOKEN=f42cc19dc6884db89c36a2b39797a2d2\n",
      "JUPYTERHUB_ADMIN_ACCESS=1\n",
      "LC_ALL=en_US.UTF-8\n",
      "LS_COLORS=\n",
      "JUPYTERHUB_BASE_URL=/\n",
      "JUPYTERHUB_CLIENT_ID=user-marc-hanheide\n",
      "JUPYTERHUB_API_TOKEN=f42cc19dc6884db89c36a2b39797a2d2\n",
      "JPY_PARENT_PID=7\n",
      "PAGER=cat\n",
      "PATH=/opt/conda/bin:/usr/local/sbin:/usr/local/bin:/usr/sbin:/usr/bin:/sbin:/bin\n",
      "MINICONDA_VERSION=4.3.21\n",
      "PWD=/home/jovyan\n",
      "LANG=en_US.UTF-8\n",
      "PS1=[PEXP\\[\\]ECT_PROMPT>\n",
      "JUPYTERHUB_API_URL=http://jupyterhub:8080/hub/api\n",
      "HOME=/home/jovyan\n",
      "SHLVL=1\n",
      "JUPYTERHUB_USER=marc-hanheide\n",
      "LANGUAGE=en_US.UTF-8\n",
      "XDG_CACHE_HOME=/home/jovyan/.cache/\n",
      "ROSDISTRO_INDEX_URL=https://raw.github.com/lcas/rosdistro/master/index.yaml\n",
      "DEBIAN_FRONTEND=noninteractive\n",
      "LESSOPEN=| /usr/bin/lesspipe %s\n",
      "JUPYTERHUB_OAUTH_CALLBACK_URL=/user/marc-hanheide/oauth_callback\n",
      "CONDA_DIR=/opt/conda\n",
      "NB_GID=100\n",
      "LESSCLOSE=/usr/bin/lesspipe %s %s\n",
      "JUPYTERHUB_HOST=\n",
      "JUPYTERHUB_SERVICE_PREFIX=/user/marc-hanheide/\n",
      "NB_UID=1000\n",
      "_=/usr/bin/env\n"
     ]
    }
   ],
   "source": [
    "env"
   ]
  },
  {
   "cell_type": "code",
   "execution_count": 7,
   "metadata": {},
   "outputs": [
    {
     "name": "stdout",
     "output_type": "stream",
     "text": [
      "HOSTNAME=d05fc2ee92c4\n",
      "SHELL=/bin/bash\n",
      "NB_USER=jovyan\n",
      "JPY_API_TOKEN=f42cc19dc6884db89c36a2b39797a2d2\n",
      "JUPYTERHUB_ADMIN_ACCESS=1\n",
      "LC_ALL=en_US.UTF-8\n",
      "LD_LIBRARY_PATH=/opt/ros/kinetic/lib\n",
      "LS_COLORS=\n",
      "JUPYTERHUB_BASE_URL=/\n",
      "JUPYTERHUB_CLIENT_ID=user-marc-hanheide\n",
      "JUPYTERHUB_API_TOKEN=f42cc19dc6884db89c36a2b39797a2d2\n",
      "JPY_PARENT_PID=7\n",
      "PAGER=cat\n",
      "PATH=/opt/ros/kinetic/bin:/opt/conda/bin:/usr/local/sbin:/usr/local/bin:/usr/sbin:/usr/bin:/sbin:/bin\n",
      "MINICONDA_VERSION=4.3.21\n",
      "PWD=/home/jovyan\n",
      "LANG=en_US.UTF-8\n",
      "PS1=[PEXP\\[\\]ECT_PROMPT>\n",
      "JUPYTERHUB_API_URL=http://jupyterhub:8080/hub/api\n",
      "HOME=/home/jovyan\n",
      "SHLVL=1\n",
      "JUPYTERHUB_USER=marc-hanheide\n",
      "LANGUAGE=en_US.UTF-8\n",
      "XDG_CACHE_HOME=/home/jovyan/.cache/\n",
      "ROSDISTRO_INDEX_URL=https://raw.github.com/lcas/rosdistro/master/index.yaml\n",
      "PYTHONPATH=/opt/ros/kinetic/lib/python2.7/dist-packages\n",
      "DEBIAN_FRONTEND=noninteractive\n",
      "PKG_CONFIG_PATH=/opt/ros/kinetic/lib/pkgconfig\n",
      "LESSOPEN=| /usr/bin/lesspipe %s\n",
      "JUPYTERHUB_OAUTH_CALLBACK_URL=/user/marc-hanheide/oauth_callback\n",
      "CONDA_DIR=/opt/conda\n",
      "NB_GID=100\n",
      "CMAKE_PREFIX_PATH=/opt/ros/kinetic\n",
      "LESSCLOSE=/usr/bin/lesspipe %s %s\n",
      "JUPYTERHUB_HOST=\n",
      "JUPYTERHUB_SERVICE_PREFIX=/user/marc-hanheide/\n",
      "NB_UID=1000\n",
      "_=/usr/bin/env\n"
     ]
    }
   ],
   "source": [
    "source /opt/ros/kinetic/setup.bash\n",
    "env"
   ]
  },
  {
   "cell_type": "code",
   "execution_count": null,
   "metadata": {},
   "outputs": [],
   "source": []
  }
 ],
 "metadata": {
  "kernelspec": {
   "display_name": "Bash",
   "language": "bash",
   "name": "bash"
  },
  "language_info": {
   "codemirror_mode": "shell",
   "file_extension": ".sh",
   "mimetype": "text/x-sh",
   "name": "bash"
  }
 },
 "nbformat": 4,
 "nbformat_minor": 2
}
