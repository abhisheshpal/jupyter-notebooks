{
 "cells": [
  {
   "cell_type": "markdown",
   "metadata": {},
   "source": [
    "# using SPQReL\n"
   ]
  },
  {
   "cell_type": "code",
   "execution_count": 1,
   "metadata": {},
   "outputs": [],
   "source": [
    "# install shellvars\n",
    "# see https://jakevdp.github.io/blog/2017/12/05/installing-python-packages-from-jupyter/\n",
    "# and https://github.com/aneilbaboo/shellvars-py\n",
    "#import sys\n",
    "#!{sys.executable} -m pip uninstall -y parsley shellvars\n",
    "#!{sys.executable} -m pip install -U shellvars-py\n",
    "\n",
    "# the current version of shellvars is not working for Python 3.6, see here: https://github.com/aneilbaboo/shellvars-py/pull/4\n",
    "# had to manually edit /opt/conda/lib/python3.6/site-packages/shellvars.py and add `encoding='utf8'` to all `Popen` calls\n"
   ]
  },
  {
   "cell_type": "code",
   "execution_count": 8,
   "metadata": {},
   "outputs": [],
   "source": [
    "# import environment and expose in jupyter env\n",
    "\n",
    "import shellvars\n",
    "from os import environ\n",
    "\n",
    "def loadenv(filename='/opt/ros/kinetic/setup.bash'):\n",
    "    vs = shellvars.get_vars(filename)\n",
    "    for v in vs:\n",
    "        print('%s=%s' % (v.decode(\"utf-8\"), str(vs[v].decode(\"utf-8\"))))\n",
    "        environ[v.decode(\"utf-8\")] = str(vs[v].decode(\"utf-8\"))\n"
   ]
  },
  {
   "cell_type": "code",
   "execution_count": 10,
   "metadata": {},
   "outputs": [
    {
     "name": "stdout",
     "output_type": "stream",
     "text": [
      "LD_LIBRARY_PATH=/opt/ros/kinetic/lib\n",
      "PATH=/opt/ros/kinetic/bin:/opt/conda/bin:/usr/local/sbin:/usr/local/bin:/usr/sbin:/usr/bin:/sbin:/bin\n",
      "PYTHONPATH=/opt/ros/kinetic/lib/python2.7/dist-packages\n",
      "PKG_CONFIG_PATH=/opt/ros/kinetic/lib/pkgconfig\n",
      "CMAKE_PREFIX_PATH=/opt/ros/kinetic\n"
     ]
    }
   ],
   "source": [
    "loadenv()\n",
    "# %env"
   ]
  },
  {
   "cell_type": "code",
   "execution_count": 13,
   "metadata": {},
   "outputs": [
    {
     "name": "stdout",
     "output_type": "stream",
     "text": [
      "/bin/sh: 1: ifconfig: not found\n"
     ]
    }
   ],
   "source": []
  },
  {
   "cell_type": "code",
   "execution_count": null,
   "metadata": {},
   "outputs": [],
   "source": []
  }
 ],
 "metadata": {
  "kernelspec": {
   "display_name": "Python 3",
   "language": "python",
   "name": "python3"
  },
  "language_info": {
   "codemirror_mode": {
    "name": "ipython",
    "version": 3
   },
   "file_extension": ".py",
   "mimetype": "text/x-python",
   "name": "python",
   "nbconvert_exporter": "python",
   "pygments_lexer": "ipython3",
   "version": "3.6.5"
  }
 },
 "nbformat": 4,
 "nbformat_minor": 2
}
